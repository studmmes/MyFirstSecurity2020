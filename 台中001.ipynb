{
  "nbformat": 4,
  "nbformat_minor": 0,
  "metadata": {
    "colab": {
      "name": "台中001.ipynb",
      "provenance": [],
      "authorship_tag": "ABX9TyN5N5QoVuY/cVLpUPLIlHc3",
      "include_colab_link": true
    },
    "kernelspec": {
      "name": "python3",
      "display_name": "Python 3"
    }
  },
  "cells": [
    {
      "cell_type": "markdown",
      "metadata": {
        "id": "view-in-github",
        "colab_type": "text"
      },
      "source": [
        "<a href=\"https://colab.research.google.com/github/studmmes/MyFirstSecurity2020/blob/master/%E5%8F%B0%E4%B8%AD001.ipynb\" target=\"_parent\"><img src=\"https://colab.research.google.com/assets/colab-badge.svg\" alt=\"Open In Colab\"/></a>"
      ]
    },
    {
      "cell_type": "code",
      "metadata": {
        "id": "EbrCNKWzFsQL",
        "colab_type": "code",
        "colab": {
          "base_uri": "https://localhost:8080/",
          "height": 647
        },
        "outputId": "817f9e51-2630-4735-9028-694e6af20cdf"
      },
      "source": [
        "import string\n",
        "\n",
        "caesaralpha = \"abcdefghijklmnopqrstuvwxyz0123456789\"\n",
        "\n",
        "def caesar(input_string,rot) :\n",
        "    output_string = \"\"\n",
        "    for i in range(len(input_string)):\n",
        "        if input_string[i].isalnum():\n",
        "            idx = (caesaralpha.find(input_string[i]) + rot) % len(caesaralpha)\n",
        "            output_string += caesaralpha[idx]\n",
        "        else:\n",
        "            output_string += input_string[i]\n",
        "    return output_string\n",
        "\n",
        "enc = '7sj-ighm-742q3w4t' # encrypt data\n",
        "\n",
        "for i in range(len(caesaralpha)):\n",
        "    print(caesar(enc, i))\n",
        "\n",
        "'rc3-2016-romangod'.upper()\n"
      ],
      "execution_count": 8,
      "outputs": [
        {
          "output_type": "stream",
          "text": [
            "7sj-ighm-742q3w4t\n",
            "8tk-jhin-853r4x5u\n",
            "9ul-kijo-964s5y6v\n",
            "avm-ljkp-a75t6z7w\n",
            "bwn-mklq-b86u708x\n",
            "cxo-nlmr-c97v819y\n",
            "dyp-omns-da8w92az\n",
            "ezq-pnot-eb9xa3b0\n",
            "f0r-qopu-fcayb4c1\n",
            "g1s-rpqv-gdbzc5d2\n",
            "h2t-sqrw-hec0d6e3\n",
            "i3u-trsx-ifd1e7f4\n",
            "j4v-usty-jge2f8g5\n",
            "k5w-vtuz-khf3g9h6\n",
            "l6x-wuv0-lig4hai7\n",
            "m7y-xvw1-mjh5ibj8\n",
            "n8z-ywx2-nki6jck9\n",
            "o90-zxy3-olj7kdla\n",
            "pa1-0yz4-pmk8lemb\n",
            "qb2-1z05-qnl9mfnc\n",
            "rc3-2016-romangod\n",
            "sd4-3127-spnbohpe\n",
            "te5-4238-tqocpiqf\n",
            "uf6-5349-urpdqjrg\n",
            "vg7-645a-vsqerksh\n",
            "wh8-756b-wtrfslti\n",
            "xi9-867c-xusgtmuj\n",
            "yja-978d-yvthunvk\n",
            "zkb-a89e-zwuivowl\n",
            "0lc-b9af-0xvjwpxm\n",
            "1md-cabg-1ywkxqyn\n",
            "2ne-dbch-2zxlyrzo\n",
            "3of-ecdi-30ymzs0p\n",
            "4pg-fdej-41zn0t1q\n",
            "5qh-gefk-520o1u2r\n",
            "6ri-hfgl-631p2v3s\n"
          ],
          "name": "stdout"
        },
        {
          "output_type": "execute_result",
          "data": {
            "application/vnd.google.colaboratory.intrinsic+json": {
              "type": "string"
            },
            "text/plain": [
              "'RC3-2016-ROMANGOD'"
            ]
          },
          "metadata": {
            "tags": []
          },
          "execution_count": 8
        }
      ]
    }
  ]
}