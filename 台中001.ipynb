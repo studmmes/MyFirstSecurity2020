{
  "nbformat": 4,
  "nbformat_minor": 0,
  "metadata": {
    "colab": {
      "name": "台中001.ipynb",
      "provenance": [],
      "authorship_tag": "ABX9TyOte1e6A4gsTJHn2anvjmPi",
      "include_colab_link": true
    },
    "kernelspec": {
      "name": "python3",
      "display_name": "Python 3"
    }
  },
  "cells": [
    {
      "cell_type": "markdown",
      "metadata": {
        "id": "view-in-github",
        "colab_type": "text"
      },
      "source": [
        "<a href=\"https://colab.research.google.com/github/studmmes/MyFirstSecurity2020/blob/master/%E5%8F%B0%E4%B8%AD001.ipynb\" target=\"_parent\"><img src=\"https://colab.research.google.com/assets/colab-badge.svg\" alt=\"Open In Colab\"/></a>"
      ]
    },
    {
      "cell_type": "code",
      "metadata": {
        "id": "cIAlZoYc8Ftv",
        "colab_type": "code",
        "colab": {
          "base_uri": "https://localhost:8080/",
          "height": 34
        },
        "outputId": "604251b5-d810-481a-e96e-bd10a43de9c0"
      },
      "source": [
        "#!/usr/bin/python\n",
        "import base64\n",
        "\n",
        "c = '126 062 126 163 142 103 102 153 142 062 065 154 111 121 157 113 122 155 170 150 132 172 157 147 123 126 144 067 124 152 102 146 115 107 065 154 130 062 116 150 142 154 071 172 144 104 102 167 130 063 153 167 144 130 060 113 012'\n",
        "\n",
        "flag = \"\"\n",
        "\n",
        "for _ in c.split(' '):\n",
        "  flag += chr(int(_,8))\n",
        "  \n",
        "\n",
        "solution = base64.b64decode(flag)\n",
        "print(solution)"
      ],
      "execution_count": null,
      "outputs": [
        {
          "output_type": "stream",
          "text": [
            "b'Well done!\\n\\nFlag: IW{N0_0ne_can_st0p_y0u}\\n'\n"
          ],
          "name": "stdout"
        }
      ]
    },
    {
      "cell_type": "code",
      "metadata": {
        "id": "v3iqLP4L_rCM",
        "colab_type": "code",
        "colab": {}
      },
      "source": [
        "import string\n",
        "\n",
        "caesaralpha = \"abcdefghijklmnopqrstuvwxyz0123456789\"\n",
        "\n",
        "def caesar(input_string,rot) :\n",
        "    output_string = \"\"\n",
        "    for i in range(len(input_string)):\n",
        "        if input_string[i].isalnum():\n",
        "            idx = (caesaralpha.find(input_string[i]) + rot) % len(caesaralpha)\n",
        "            output_string += caesaralpha[idx]\n",
        "        else:\n",
        "            output_string += input_string[i]\n",
        "    return output_string\n",
        "\n",
        "enc = '7sj-ighm-742q3w4t' # encrypt data\n",
        "\n",
        "for i in range(len(caesaralpha)):\n",
        "    print(caesar(enc, i))"
      ],
      "execution_count": null,
      "outputs": []
    },
    {
      "cell_type": "code",
      "metadata": {
        "id": "BeKv7uZWAJzy",
        "colab_type": "code",
        "colab": {
          "base_uri": "https://localhost:8080/",
          "height": 34
        },
        "outputId": "1f95c755-acf9-4534-8fb8-7aba1645ec1a"
      },
      "source": [
        "seconds_in_a_day = 24 * 60 * 60\n",
        "seconds_in_a_day"
      ],
      "execution_count": 5,
      "outputs": [
        {
          "output_type": "execute_result",
          "data": {
            "text/plain": [
              "86400"
            ]
          },
          "metadata": {
            "tags": []
          },
          "execution_count": 5
        }
      ]
    },
    {
      "cell_type": "code",
      "metadata": {
        "id": "3gmZF1k08nKU",
        "colab_type": "code",
        "colab": {
          "base_uri": "https://localhost:8080/",
          "height": 68
        },
        "outputId": "a2a04a08-26b9-49dd-95f3-a7323abdebc5"
      },
      "source": [
        "import base64\n",
        "\n",
        "original_data = b'BreakAllCTF{HappyPythonDay}'\n",
        "print('Original data:', original_data)\n",
        "\n",
        "encoded_data = base64.b32encode(original_data)\n",
        "print('Encoded :', encoded_data)\n",
        "\n",
        "decoded_data = base64.b32decode(encoded_data)\n",
        "print('Decoded :', decoded_data)"
      ],
      "execution_count": null,
      "outputs": [
        {
          "output_type": "stream",
          "text": [
            "Original data: b'BreakAllCTF{HappyPythonDay}'\n",
            "Encoded : b'IJZGKYLLIFWGYQ2UIZ5UQYLQOB4VA6LUNBXW4RDBPF6Q===='\n",
            "Decoded : b'BreakAllCTF{HappyPythonDay}'\n"
          ],
          "name": "stdout"
        }
      ]
    }
  ]
}